{
 "cells": [
  {
   "cell_type": "code",
   "execution_count": null,
   "metadata": {},
   "outputs": [],
   "source": [
    "import re\n",
    "import pandas as pd\n",
    "\n",
    "# Example text from the PDF\n",
    "text = \"\"\"\n",
    "1 Marco Osborne (1015) 33 M Time 3:02 3:43 3:23 2:24 2:34 1:48 16:55.9\n",
    "2 Teddy Hayden (1010) 27 M Time 3:05 3:47 3:28 2:27 2:38 1:50 17:18.1\n",
    "3 Nik Dommen (1008) 32 M Time 3:08 3:44 3:28 2:26 2:41 1:49 17:18.6\n",
    "4 Will Hutchinson (1012) 46 M Time 3:07 3:45 3:30 2:29 2:38 1:49 17:20.4\n",
    "\"\"\"\n",
    "\n",
    "# Regular expression to match the race results\n",
    "pattern = r\"(\\d+) ([\\w\\s]+) \\((\\d+)\\) (\\d+) M Time (\\d+:\\d+) (\\d+:\\d+) (\\d+:\\d+) (\\d+:\\d+) (\\d+:\\d+) (\\d+:\\d+) (\\d+:\\d+\\.\\d+)\"\n",
    "\n",
    "# Find all matches in the text\n",
    "matches = re.findall(pattern, text)\n",
    "\n",
    "# Convert matches to a DataFrame\n",
    "columns = ['Rank', 'Name', 'Bib', 'Age', 'Stage1', 'Stage2', 'Stage3', 'Stage4', 'Stage5', 'Stage6', 'Total']\n",
    "df = pd.DataFrame(matches, columns=columns)\n",
    "\n",
    "# Convert time columns to mm:ss format if needed\n",
    "# (Assuming they are already in mm:ss format based on the example)\n",
    "print(df)"
   ]
  }
 ],
 "metadata": {
  "language_info": {
   "name": "python"
  }
 },
 "nbformat": 4,
 "nbformat_minor": 2
}
